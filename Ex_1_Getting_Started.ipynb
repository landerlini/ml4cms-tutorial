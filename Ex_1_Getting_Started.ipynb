{
  "nbformat": 4,
  "nbformat_minor": 0,
  "metadata": {
    "colab": {
      "name": "Ex. 1 - Getting Started",
      "provenance": [],
      "collapsed_sections": [
        "Ps1O3Pr9BUkl",
        "DXuluLE4D52W",
        "F2iIAxxybQCY",
        "vVFvzSpKgDrw",
        "m-s9hxstkMfR",
        "uK-hDHxnwH72",
        "3PRx7eKb0KpX"
      ]
    },
    "kernelspec": {
      "name": "python3",
      "display_name": "Python 3"
    }
  },
  "cells": [
    {
      "cell_type": "markdown",
      "metadata": {
        "id": "Ps1O3Pr9BUkl"
      },
      "source": [
        "# Ex. 1 - Getting Started\n",
        "\n",
        "In this short tutorial we will discuss the basics of python and numeric python to get you started into advanced data analysis.\n",
        "\n",
        "We will use as an example the dataset from a Simulation of the CMS experiment, at CERN.\n",
        "\n",
        "First of all, let's obtain the required software and the data.\n",
        "This is a bit technical, don't be scared. Just skip to the next cell!"
      ]
    },
    {
      "cell_type": "code",
      "metadata": {
        "id": "dmApfTkVA8Lb",
        "colab": {
          "base_uri": "https://localhost:8080/"
        },
        "outputId": "751f87d3-27ab-4678-df3a-f1f2ec5eaa7c"
      },
      "source": [
        "!pip install uproot\n",
        "files = {\n",
        "    \"WWTo2L2Nu1.root\": \"1oix_LaKYaPgMPdOcG8O6_qwq3a0CD1EO\",\n",
        "    \"GGToHToWWTo2L2Nu1.root\": \"1lD3JG12bP21oN94bEmDOZuLQBd4y2Dwk\",\n",
        "    \"WWTo2L2Nu2.root\":\"1KTlRb66tSPajEpJJoLqmqisBQW-Pakjk\",\n",
        "    \"GGToHToWWTo2L2Nu2.root\": \"1X72-i7qrYqQyA02jCESFFlSq33__x_tq\"}\n",
        "!rm -f *.root\n",
        "import os \n",
        "for kv in files.items():\n",
        "  if not os.path.exists(kv[0]):\n",
        "    a = os.system ( \"wget -O %s --no-check-certificate 'https://docs.google.com/uc?export=download&id=%s'\" % kv )\n",
        "    if a: raise IOError ( \"Could not download %s (%s)\" % kv ) "
      ],
      "execution_count": null,
      "outputs": [
        {
          "output_type": "stream",
          "text": [
            "Collecting uproot\n",
            "\u001b[?25l  Downloading https://files.pythonhosted.org/packages/a5/99/bf1b3995f9cafad30c8df34a99ab286f522cf762a2eb2152ac47609be04e/uproot-4.0.8-py2.py3-none-any.whl (241kB)\n",
            "\r\u001b[K     |█▍                              | 10kB 18.2MB/s eta 0:00:01\r\u001b[K     |██▊                             | 20kB 22.3MB/s eta 0:00:01\r\u001b[K     |████                            | 30kB 10.3MB/s eta 0:00:01\r\u001b[K     |█████▍                          | 40kB 8.1MB/s eta 0:00:01\r\u001b[K     |██████▉                         | 51kB 5.3MB/s eta 0:00:01\r\u001b[K     |████████▏                       | 61kB 5.8MB/s eta 0:00:01\r\u001b[K     |█████████▌                      | 71kB 6.3MB/s eta 0:00:01\r\u001b[K     |██████████▉                     | 81kB 6.4MB/s eta 0:00:01\r\u001b[K     |████████████▏                   | 92kB 5.9MB/s eta 0:00:01\r\u001b[K     |█████████████▋                  | 102kB 5.1MB/s eta 0:00:01\r\u001b[K     |███████████████                 | 112kB 5.1MB/s eta 0:00:01\r\u001b[K     |████████████████▎               | 122kB 5.1MB/s eta 0:00:01\r\u001b[K     |█████████████████▋              | 133kB 5.1MB/s eta 0:00:01\r\u001b[K     |███████████████████             | 143kB 5.1MB/s eta 0:00:01\r\u001b[K     |████████████████████▍           | 153kB 5.1MB/s eta 0:00:01\r\u001b[K     |█████████████████████▊          | 163kB 5.1MB/s eta 0:00:01\r\u001b[K     |███████████████████████         | 174kB 5.1MB/s eta 0:00:01\r\u001b[K     |████████████████████████▍       | 184kB 5.1MB/s eta 0:00:01\r\u001b[K     |█████████████████████████▉      | 194kB 5.1MB/s eta 0:00:01\r\u001b[K     |███████████████████████████▏    | 204kB 5.1MB/s eta 0:00:01\r\u001b[K     |████████████████████████████▌   | 215kB 5.1MB/s eta 0:00:01\r\u001b[K     |█████████████████████████████▉  | 225kB 5.1MB/s eta 0:00:01\r\u001b[K     |███████████████████████████████▏| 235kB 5.1MB/s eta 0:00:01\r\u001b[K     |████████████████████████████████| 245kB 5.1MB/s \n",
            "\u001b[?25hRequirement already satisfied: setuptools in /usr/local/lib/python3.7/dist-packages (from uproot) (57.0.0)\n",
            "Requirement already satisfied: numpy in /usr/local/lib/python3.7/dist-packages (from uproot) (1.19.5)\n",
            "Installing collected packages: uproot\n",
            "Successfully installed uproot-4.0.8\n"
          ],
          "name": "stdout"
        }
      ]
    },
    {
      "cell_type": "markdown",
      "metadata": {
        "id": "DXuluLE4D52W"
      },
      "source": [
        "### Loading and explaining the dataset\n",
        "Let's list the files in the current directory."
      ]
    },
    {
      "cell_type": "code",
      "metadata": {
        "id": "IWRj_4kYCMQS",
        "colab": {
          "base_uri": "https://localhost:8080/"
        },
        "outputId": "ec6fa922-72cc-426c-f8d6-f8a0279876c4"
      },
      "source": [
        "!ls -l"
      ],
      "execution_count": null,
      "outputs": [
        {
          "output_type": "stream",
          "text": [
            "total 1908\n",
            "-rw-r--r-- 1 root root 485452 Jun 10 14:41 GGToHToWWTo2L2Nu1.root\n",
            "-rw-r--r-- 1 root root 485432 Jun 10 14:41 GGToHToWWTo2L2Nu2.root\n",
            "drwxr-xr-x 1 root root   4096 Jun  1 13:40 sample_data\n",
            "-rw-r--r-- 1 root root 486239 Jun 10 14:41 WWTo2L2Nu1.root\n",
            "-rw-r--r-- 1 root root 486076 Jun 10 14:41 WWTo2L2Nu2.root\n"
          ],
          "name": "stdout"
        }
      ]
    },
    {
      "cell_type": "markdown",
      "metadata": {
        "id": "3t_B66eWER0r"
      },
      "source": [
        "There are four files, and one directory. \n",
        "The directory is something internal to Google Colaboratory, and can be safely ignored for the moment, while the files contain the data that we have just downloaded. \n",
        "\n",
        "The names are *self-explainatory* to those who chose them, but may feel obscure at a first sight:\n",
        " * `GGToHToWWTo2L2Nu{12}.root` stands for gluon-gluon fusion (GG) producing (To) a Higgs boson (H) which decays into (To) a pair of W bosons (WW), which decay into a lepton and a neutrino, each. So in the final state you will have two leptons and two neutrinos (2L2Nu) We have two independent datasets indicated as 1 and 2 (1 or 2).\n",
        " * `WWTo2L2Nu{12}.root` stands for two randomly paired W bosons (WW) decaying into (To) a lepton and a neutrino, each. Hence, the final state is made of two leptons and two neutrinos (2L2Nu) again. \n",
        "\n",
        "So we will refer to the first one as **signal** because it contains events with 2 charged leptons and 2 neutrinos from a simulated higgs decay, while the second will be our **background** because it contains events where the same final state is obtained via a random combination of W bosons, unrelated to the production of a higgs. \n",
        "\n",
        "**Note: We will ignore the second copy of each file in the first exercise**\n",
        "\n",
        "The files are in ROOT format. ROOT is a large and powerful framework developed by CERN and released under an open source licence that ease data analysis in C++ and it is widely adopted by the High-Energy Physics Experiment to deal with the event reconstruction phase, and for analysing large datasets on distributed computing systems such as the Computing Grid.\n",
        "\n",
        "If you plan to become a software expert within one of the many HEP Collaborations, getting accustomed with ROOT might be a good idea, but not for today.\n",
        "The ROOT files can be loaded into a ROOT-less framework through the `uproot` python library. \n",
        "\n",
        "So, as a first step, let's open these files and have a look to what's in."
      ]
    },
    {
      "cell_type": "code",
      "metadata": {
        "id": "CO1izlIMEN0O",
        "colab": {
          "base_uri": "https://localhost:8080/"
        },
        "outputId": "71e40c4b-7021-4260-9a32-2d86fe7efddc"
      },
      "source": [
        "import uproot\n",
        "f_signal      = uproot.open ( \"GGToHToWWTo2L2Nu2.root\" )\n",
        "f_background  = uproot.open ( \"WWTo2L2Nu2.root\" )\n",
        "print (\"Keys in f_signal:\")\n",
        "print (\"\\n\".join([\" * \" + str(k) for k in f_signal.keys()]))\n",
        "print (\"Keys in f_background:\")\n",
        "print (\"\\n\".join([\" * \" + str(k) for k in f_background.keys()]))"
      ],
      "execution_count": null,
      "outputs": [
        {
          "output_type": "stream",
          "text": [
            "Keys in f_signal:\n",
            " * latino;1\n",
            "Keys in f_background:\n",
            " * latino;1\n"
          ],
          "name": "stdout"
        }
      ]
    },
    {
      "cell_type": "markdown",
      "metadata": {
        "id": "N5MBgpIhZrgc"
      },
      "source": [
        "Both the signal and background files contain a single record, named \"latino\" which has never been updated after it was created the first time (`;1` means accessed 1 for writing).\n",
        "\n",
        "In case you wonder, \"latino\" indicates one of the groups within CMS who is working on this important analysis, mainly composed of Italian and Spanish physicists.\n",
        "\n",
        "For practical usage, it is much easier to transform these datasets into pandas dataframe, this is not always possible because ROOT files can be much more complicated than a simple table structured in columns and entries (a pandas dataframe), but in this it works. Thanks, *latinos*!"
      ]
    },
    {
      "cell_type": "code",
      "metadata": {
        "id": "8xMkRdhLZrFz"
      },
      "source": [
        "signal = f_signal['latino'].arrays(library='pd')\n",
        "background = f_background['latino'].arrays(library='pd')"
      ],
      "execution_count": null,
      "outputs": []
    },
    {
      "cell_type": "markdown",
      "metadata": {
        "id": "MRXHNiIVJBBs"
      },
      "source": [
        "\n",
        "Let's have a look to what variables are defined in is in the \"latino\" record. "
      ]
    },
    {
      "cell_type": "code",
      "metadata": {
        "id": "taza-txzIWD4",
        "colab": {
          "base_uri": "https://localhost:8080/"
        },
        "outputId": "a28da3df-5b06-41a8-c678-68efcfd24fd3"
      },
      "source": [
        "print (\", \".join(signal.columns))\n",
        "print (\", \".join(background.columns))"
      ],
      "execution_count": null,
      "outputs": [
        {
          "output_type": "stream",
          "text": [
            "metPfType1Phi, metPfType1, drll, njet, mTi, dphill, dphillmet, ptll, mll, dphilmet, mth\n",
            "metPfType1Phi, metPfType1, drll, njet, mTi, dphill, dphillmet, ptll, mll, dphilmet, mth\n"
          ],
          "name": "stdout"
        }
      ]
    },
    {
      "cell_type": "markdown",
      "metadata": {
        "id": "jhX-FHEqKigQ"
      },
      "source": [
        "Great! So both files contain the exact same set of variables, thanks *latinos*!\n",
        "Let's have a chat with him to understand the naming convention he adopted, unless it's obvious to you...\n",
        "\n",
        "  * `mll` is the invariant mass of the two leptons: \n",
        " $m_{\\ell\\ell} = \\sqrt { p^{\\ell1} p^{\\ell2} (1 - \\cos\\Delta\\varphi) } $\n",
        "  * `mth` is the missing transverse mass of the higgs: \n",
        " $m_{T} = \\sqrt { p^{\\ell_T\\ell_T} p^{miss} (1 - \\cos\\Delta\\varphi) } $\n",
        "  * `njet` is the number of particle jets reconstructed in the event\n",
        "  * `ptll` is the transverse momentum of the lepton pair\n",
        "  * `drll` is the $\\Delta R$ variable of the lepton pairs, defined as \n",
        "  $\\Delta R = \\sqrt {(\\Delta \\eta^2 + \\Delta \\varphi^2)}$\n",
        "  where $\\Delta\\eta$ is the difference between the pseudorapidity eta of each of the leptons while $\\Delta\\varphi$ is the differnece between the azimuthal angle of the two leptons;\n",
        "  * `mTi` is the *improved missing transverse mass*, defined as the invariant mass of the leptons added to the missing transverse momentum\n",
        "  * `dphill` stands for $\\Delta \\varphi$ of the lepton pair;\n",
        "  * `dphillmet` stands for $\\Delta \\varphi$ between the lepton pair and the missing transverse momentum;\n",
        "  * `dphilmet` stands for $\\Delta \\varphi$ between the first of the leptons and the missing transverse momentum;\n",
        "  * `metPfType1` is the missing transverse energy.\n",
        "  * `metPfType1Phi` is the azimutal angle of the missing energy. \n",
        "\n",
        "So, thanks *latinos* let's move forward.\n",
        "\n",
        "Since the columns of the two datasets are the same, let's merge the signal and background samples into a unique dataset, with a column defining the origin of each entry. \n",
        "Let's say we label **1** the **signal** events, and **0** the **background** events.\n",
        "\n"
      ]
    },
    {
      "cell_type": "code",
      "metadata": {
        "id": "mYcbVvdvbOwS"
      },
      "source": [
        "import pandas as pd\n",
        "\n",
        "signal['label'] = 1\n",
        "background['label'] = 0\n",
        "dataset = pd.concat ( (signal, background) )"
      ],
      "execution_count": null,
      "outputs": []
    },
    {
      "cell_type": "markdown",
      "metadata": {
        "id": "F2iIAxxybQCY"
      },
      "source": [
        "### Binary classification with a single variable\n",
        "From now on, we will discuss methods and techniques to distinguish the signal from the background. \n",
        "This problem is named a **binary classification**  since we ask the question: *I've just got a new entry, is this either signal or background?*\n",
        "\n",
        "Let's start considering it as univariate problem. From physical principle we expect that events involving the production of a scalar Higgs boson to have the two charged leptons produced with a small angle between their momenta, so we will start with the $\\Delta R$ variable which is a measure of the angle between the two leptons. "
      ]
    },
    {
      "cell_type": "code",
      "metadata": {
        "id": "NQ_OdvxEJ5SK",
        "colab": {
          "base_uri": "https://localhost:8080/"
        },
        "outputId": "a6608f33-7749-4c24-b1fd-e6a06271dd01"
      },
      "source": [
        "print (\"\"\"\n",
        "  Signal     {mean_s:10.2f} GeV/c  with std. deviation {stddev_s:10.2f} GeV/c\n",
        "  Background {mean_b:10.2f} GeV/c  with std. deviation {stddev_b:10.2f} GeV/c\n",
        "\"\"\".format (\n",
        "    mean_s = signal['drll'].mean(),\n",
        "    mean_b = background['drll'].mean(),    \n",
        "    stddev_s = signal['drll'].std(),\n",
        "    stddev_b = background['drll'].std(),\n",
        "))"
      ],
      "execution_count": null,
      "outputs": [
        {
          "output_type": "stream",
          "text": [
            "\n",
            "  Signal           1.29 GeV/c  with std. deviation       0.60 GeV/c\n",
            "  Background       2.23 GeV/c  with std. deviation       0.86 GeV/c\n",
            "\n"
          ],
          "name": "stdout"
        }
      ]
    },
    {
      "cell_type": "markdown",
      "metadata": {
        "id": "joesIxKZTXD3"
      },
      "source": [
        "The value of drll, aka $\\Delta R$ is indeed, on average, smaller for the signal than it is for background. So let's try to make histograms to show the two distributions of $\\Delta R$.\n",
        "\n",
        "For plotting we will use `pyplot` delivered with the python library `matplotlib`.\n",
        "\n",
        "Have a look to the documentation of the `pyplot.hist` function [here](https://matplotlib.org/3.2.1/api/_as_gen/matplotlib.pyplot.hist.html) or just Google for it."
      ]
    },
    {
      "cell_type": "code",
      "metadata": {
        "id": "7kXhPp5NSJc_",
        "colab": {
          "base_uri": "https://localhost:8080/"
        },
        "outputId": "a96c150f-3af4-4433-e67c-d5267cedd53f"
      },
      "source": [
        "import matplotlib.pyplot as plt\n",
        "plt.hist ( signal['drll'], label='Signal' , bins = 50 )\n",
        "plt.hist ( background['drll'], histtype = \"step\", linewidth=2, label='Background', bins = 50 )\n",
        "plt.xlabel ( \"$\\Delta R$\" )\n",
        "plt.ylabel ( \"Candidates\" )\n",
        "plt.legend()\n",
        "plt.show()"
      ],
      "execution_count": null,
      "outputs": [
        {
          "output_type": "display_data",
          "data": {
            "image/png": "[encoded data removed]",
            "text/plain": [
              "<Figure size 432x288 with 1 Axes>"
            ]
          },
          "metadata": {
            "tags": [],
            "needs_background": "light"
          }
        }
      ]
    },
    {
      "cell_type": "markdown",
      "metadata": {
        "id": "s9-IpBjYXqgS"
      },
      "source": [
        "The two distributions are indeed quite diifferent, let's try to quantify this difference into a number. For example we can use the [Kolmogorv Distance](https://en.wikipedia.org/wiki/Kolmogorov%E2%80%93Smirnov_test) which is defined as the maximum distance between two cumulative distributions. Graphically, it is the maximum distance between the two lines shown below.\n",
        "\n"
      ]
    },
    {
      "cell_type": "code",
      "metadata": {
        "id": "-nslkjvlWsoz",
        "colab": {
          "base_uri": "https://localhost:8080/"
        },
        "outputId": "03916a2a-de89-4d20-930e-e8b2b11ffbd6"
      },
      "source": [
        "import matplotlib.pyplot as plt\n",
        "plt.hist ( signal['drll'], histtype = \"step\", linewidth=2, label='Signal' , bins = 50, cumulative=True, density=True )\n",
        "plt.hist ( background['drll'], histtype = \"step\", linewidth=2, label='Background', bins = 50, cumulative=True, density=True )\n",
        "plt.xlabel ( \"$\\Delta R$\" )\n",
        "plt.ylabel ( \"Cumulative pdf\" )\n",
        "plt.legend()\n",
        "plt.show()"
      ],
      "execution_count": null,
      "outputs": [
        {
          "output_type": "display_data",
          "data": {
            "image/png": "[encoded data removed]",
            "text/plain": [
              "<Figure size 432x288 with 1 Axes>"
            ]
          },
          "metadata": {
            "tags": [],
            "needs_background": "light"
          }
        }
      ]
    },
    {
      "cell_type": "markdown",
      "metadata": {
        "id": "2SWO5UWEZIAq"
      },
      "source": [
        "Let's compute it (with some acceptable approximation). We define an x-axis as a sequence of ticks at fixed pitch spanning from the minimal to the maximal value that the $\\Delta R$ can hold within the whole dataset.\n",
        "This is achieved with the numpy function `linspace`: "
      ]
    },
    {
      "cell_type": "code",
      "metadata": {
        "id": "NLAb7Y-lYzQ3"
      },
      "source": [
        "import numpy as np\n",
        "xAxis = np.linspace ( dataset['drll'].min(), dataset['drll'].max(), 100 )"
      ],
      "execution_count": null,
      "outputs": []
    },
    {
      "cell_type": "markdown",
      "metadata": {
        "id": "oOfjQr6dcxYA"
      },
      "source": [
        "Then we use the x-axis we have just defined as boundaries for two histograms"
      ]
    },
    {
      "cell_type": "code",
      "metadata": {
        "id": "fAl500s1coJ6"
      },
      "source": [
        "h_signal, _ = np.histogram(signal['drll'], bins=xAxis)\n",
        "h_background, _ = np.histogram(background['drll'], bins=xAxis)"
      ],
      "execution_count": null,
      "outputs": []
    },
    {
      "cell_type": "markdown",
      "metadata": {
        "id": "1axRGhZudSUd"
      },
      "source": [
        "`h_signal` and `h_background` contain the series of values representing the content of the histograms, to obtain the cumulative distribution we need to:\n",
        "1. normalize the histogram dividing by the total number of entries\n",
        "2. sum the content of the bins iteratively from left to right (we can use the `np.cumsum` function for this)\n"
      ]
    },
    {
      "cell_type": "code",
      "metadata": {
        "id": "RTMz9ARmdHQA"
      },
      "source": [
        "c_signal = np.cumsum (h_signal / h_signal.sum())\n",
        "c_background = np.cumsum (h_background / h_background.sum())"
      ],
      "execution_count": null,
      "outputs": []
    },
    {
      "cell_type": "markdown",
      "metadata": {
        "id": "C3wLhN_yeX2A"
      },
      "source": [
        "If we now take the difference between the two cumulative distributions, we get a series of values representing the bin-by-bin difference. \n",
        "\n",
        "Let's plot it."
      ]
    },
    {
      "cell_type": "code",
      "metadata": {
        "id": "MYX5KQrZeXV7",
        "colab": {
          "base_uri": "https://localhost:8080/"
        },
        "outputId": "a26f64a0-ec14-45b7-de35-ee29012628f2"
      },
      "source": [
        "c_diff = c_signal - c_background\n",
        "plt.plot (0.5 * (xAxis[1:] + xAxis[:-1]), c_diff)\n",
        "plt.xlabel ( \"$\\Delta R$\"); plt.ylabel ( \"Difference between the cumulatives\" )\n",
        "plt.show()"
      ],
      "execution_count": null,
      "outputs": [
        {
          "output_type": "display_data",
          "data": {
            "image/png": "[encoded data removed]",
            "text/plain": [
              "<Figure size 432x288 with 1 Axes>"
            ]
          },
          "metadata": {
            "tags": [],
            "needs_background": "light"
          }
        }
      ]
    },
    {
      "cell_type": "markdown",
      "metadata": {
        "id": "_wh-ka6pfQ1a"
      },
      "source": [
        "The Kolmogorv distance is just the maximum of this curve"
      ]
    },
    {
      "cell_type": "code",
      "metadata": {
        "id": "Acr--zDOeUoy",
        "colab": {
          "base_uri": "https://localhost:8080/"
        },
        "outputId": "ba8587d3-ee96-4885-c7c0-09b3be9d0c8f"
      },
      "source": [
        "kdist = np.max(np.abs(c_diff))\n",
        "print (\"The Kolmogorv distance for variable drll is %.1f%%\" % (100. * kdist))"
      ],
      "execution_count": null,
      "outputs": [
        {
          "output_type": "stream",
          "text": [
            "The Kolmogorv distance for variable drll is 48.6%\n"
          ],
          "name": "stdout"
        }
      ]
    },
    {
      "cell_type": "markdown",
      "metadata": {
        "id": "vVFvzSpKgDrw"
      },
      "source": [
        "### Exercise 1.1\n",
        "Using what discussed so far, try ranking the variables from the most discriminant to the least discriminant by using the Kolmogorv distance.\n",
        "\n",
        "hint: to sort by argument, you can use [np.argsort](https://numpy.org/doc/stable/reference/generated/numpy.argsort.html)"
      ]
    },
    {
      "cell_type": "code",
      "metadata": {
        "id": "mi0iSwWIfead",
        "colab": {
          "base_uri": "https://localhost:8080/"
        },
        "outputId": "0bc7af08-97df-448f-e134-ad2b65361f90"
      },
      "source": [
        "## Solution to be hidden for students\n",
        "kdists = list()\n",
        "for var in dataset.columns:\n",
        "  xAxis = np.linspace (dataset[var].min(), dataset[var].max(), 100)\n",
        "  c_sig = np.cumsum ( np.histogram (signal[var], bins = xAxis)[0]/len(signal) )\n",
        "  c_bkg = np.cumsum ( np.histogram (background[var], bins = xAxis)[0]/len(background) )\n",
        "  kdists.append ( np.max(np.abs(c_sig-c_bkg)) )\n",
        "\n",
        "for iVar in np.argsort(kdists)[::-1]:\n",
        "  print (\"%10.10s: %10.1f%%\" % ( dataset.columns[iVar], 100. * kdists[iVar]))"
      ],
      "execution_count": null,
      "outputs": [
        {
          "output_type": "stream",
          "text": [
            "     label:      100.0%\n",
            "       mll:       62.1%\n",
            "       mTi:       51.8%\n",
            "      drll:       48.6%\n",
            "    dphill:       40.6%\n",
            "       mth:       19.9%\n",
            "  dphilmet:       15.9%\n",
            "metPfType1:       13.8%\n",
            "      ptll:       11.0%\n",
            " dphillmet:        8.4%\n",
            "      njet:        4.4%\n",
            "metPfType1:        1.5%\n"
          ],
          "name": "stdout"
        }
      ]
    },
    {
      "cell_type": "markdown",
      "metadata": {
        "id": "m-s9hxstkMfR"
      },
      "source": [
        "### Likelihood ratio and Lemma of Neyman-Pearson\n",
        "The Neyman-Pearson lemma demonstrates that the most powerful criterion to distinguish between two hypotheses is obtained by computing the likelihood ratio.\n",
        "\n",
        "Let's start computing the likelihood of the two hypotheses for the univariate problem. We will use a normalized histogram to approximate the probability density function (*pdf*)."
      ]
    },
    {
      "cell_type": "code",
      "metadata": {
        "id": "ip_58k0moJZp"
      },
      "source": [
        "xAxis = np.linspace ( dataset['drll'].min(), dataset['drll'].max(), 100 )\n",
        "s_hist = np.histogram ( signal['drll'], bins = xAxis )[0]/len(signal)\n",
        "b_hist = np.histogram ( background['drll'], bins = xAxis)[0]/len(background)"
      ],
      "execution_count": null,
      "outputs": []
    },
    {
      "cell_type": "markdown",
      "metadata": {
        "id": "ff8We1J5oJOf"
      },
      "source": [
        "If we interpret these two histograms as probability density functions, then \n",
        "we can compute a likelihood ratio an plot it as a function of the variable itself. \n",
        "\n",
        "Note that we need to clip values to avoid numerical instabilities."
      ]
    },
    {
      "cell_type": "code",
      "metadata": {
        "id": "SuQOSlIlhuPA",
        "colab": {
          "base_uri": "https://localhost:8080/"
        },
        "outputId": "16c6b614-9eb6-4a59-8675-e8e66ba0766e"
      },
      "source": [
        "epsilon = 1e-12\n",
        "likelihood_ratio = np.log(s_hist / np.clip(b_hist, epsilon, 1e100) + epsilon )\n",
        "likelihood_ratio = np.clip(likelihood_ratio, -5, 5)\n",
        "plt.plot ( 0.5*(xAxis[:-1]+xAxis[1:]), likelihood_ratio )\n",
        "plt.xlabel ( '$\\Delta R$' )\n",
        "plt.ylabel ( 'Test-statistic')\n",
        "plt.show()"
      ],
      "execution_count": null,
      "outputs": [
        {
          "output_type": "display_data",
          "data": {
            "image/png": "[encoded data removed]",
            "text/plain": [
              "<Figure size 432x288 with 1 Axes>"
            ]
          },
          "metadata": {
            "tags": [],
            "needs_background": "light"
          }
        }
      ]
    },
    {
      "cell_type": "markdown",
      "metadata": {
        "id": "chFNbw9suS6x"
      },
      "source": [
        "Unfortunately, this curve is not that interesting in itself, because it is not related to the actual discrimination power of the test statistic, it is only a rule to assign a test statistic given a value of $\\Delta R$. \n",
        "\n",
        "However, this is a fundamental step in any classification analysis: one has to identify a function to assign a given set of variables, a single test statistic that has not necessarily a physical meaning, but that allows to maximize the separation power of the several variables. \n",
        "\n",
        "In this simple 1D example, we will use a linear interpolation of the function above to define the test-statistic value associated to each entry of the database.\n",
        "\n",
        "Usually, to evaluate the quality of a test-statistic, we superpose the histograms of the value that the test statistic takes on the two dataset that we are trying to distinguish."
      ]
    },
    {
      "cell_type": "code",
      "metadata": {
        "id": "LacHy96hmWGX",
        "colab": {
          "base_uri": "https://localhost:8080/"
        },
        "outputId": "e9447707-6379-4d49-8c18-161d576fe176"
      },
      "source": [
        "s_teststat = np.interp ( signal['drll'].values, 0.5*(xAxis[:-1]+xAxis[1:]), likelihood_ratio )\n",
        "b_teststat = np.interp ( background['drll'].values, 0.5*(xAxis[:-1]+xAxis[1:]), likelihood_ratio )\n",
        "plt.hist ( s_teststat, bins = np.linspace(-5,5,20), label = 'signal' )\n",
        "plt.hist ( b_teststat, bins = np.linspace(-5,5,20), histtype='step', linewidth=2, label='background' )\n",
        "plt.xlabel('Test statistic')\n",
        "plt.ylabel('Entries')\n",
        "plt.legend()\n",
        "plt.show()"
      ],
      "execution_count": null,
      "outputs": [
        {
          "output_type": "display_data",
          "data": {
            "image/png": "[encoded data removed]",
            "text/plain": [
              "<Figure size 432x288 with 1 Axes>"
            ]
          },
          "metadata": {
            "tags": [],
            "needs_background": "light"
          }
        }
      ]
    },
    {
      "cell_type": "markdown",
      "metadata": {
        "id": "ApS-a4A7v2bF"
      },
      "source": [
        "Here it is! No physical meaning, same separation power as the single variable!"
      ]
    },
    {
      "cell_type": "markdown",
      "metadata": {
        "id": "uK-hDHxnwH72"
      },
      "source": [
        "### Plotting the ROC curve\n",
        "Ok we have a test-statistic, let's try to use it to discriminate between signal and background, computing for each possible threshold what would be the background rejection and the signal selection efficiency."
      ]
    },
    {
      "cell_type": "code",
      "metadata": {
        "id": "8_iYCQT_qfUs",
        "colab": {
          "base_uri": "https://localhost:8080/"
        },
        "outputId": "9710e62d-8997-4faf-c14d-8fa0c4c212ce"
      },
      "source": [
        "s_hist = np.histogram ( s_teststat, bins = np.linspace(-5,5,20))[0] / len(signal)\n",
        "b_hist = np.histogram ( b_teststat, bins = np.linspace(-5,5,20))[0] / len(background)\n",
        "s_eff  = 1. - np.cumsum ( s_hist )\n",
        "b_rej  = np.cumsum ( b_hist )\n",
        "plt.plot ( s_eff, b_rej, '--', label = '$\\Delta R$')\n",
        "plt.xlabel (\"Signal selection efficiency\")\n",
        "plt.ylabel (\"Background rejection\")\n",
        "plt.legend()\n",
        "plt.show()"
      ],
      "execution_count": null,
      "outputs": [
        {
          "output_type": "display_data",
          "data": {
            "image/png": "[encoded data removed]",
            "text/plain": [
              "<Figure size 432x288 with 1 Axes>"
            ]
          },
          "metadata": {
            "tags": [],
            "needs_background": "light"
          }
        }
      ]
    },
    {
      "cell_type": "markdown",
      "metadata": {
        "id": "1c7TrffAyOHd"
      },
      "source": [
        "This ROC (Receiver-Operator Curve) is important because it allows to compare \n",
        "the performance of several different classification algorithms. \n",
        "The ideal classifier would push the curve to the top-right corner of the graph, allowing to achieve full signal selection efficiency and no background contamination. \n",
        "\n",
        "The ideal classification algorithm does not necessarily exists. If one tries to distinguish between candidates that are statistically equivalent, no classificator will ever be able to distinguish between the two candidates.\n",
        "\n",
        "At the opposite extreme, a random classification that picks randomly events and labels them as signal, would have a straight-line ROC. \n",
        "\n",
        "Things can go event worse, though: your classifier may identify background events as signal with higher probability than real signal events. In this case the ROC curve would be \"below\" the the random-classifier line."
      ]
    },
    {
      "cell_type": "code",
      "metadata": {
        "id": "AX-__on95CuQ",
        "colab": {
          "base_uri": "https://localhost:8080/"
        },
        "outputId": "4e3d1cec-ed08-4ddf-e155-20d55bf24c37"
      },
      "source": [
        "s_hist = np.histogram ( np.random.uniform(-5,5,len(signal)), bins = np.linspace(-5,5,20))[0] / len(signal)\n",
        "b_hist = np.histogram ( np.random.uniform(-5,5,len(signal)), bins = np.linspace(-5,5,20))[0] / len(background)\n",
        "s_eff  = 1. - np.cumsum ( s_hist )\n",
        "b_rej  = np.cumsum ( b_hist )\n",
        "plt.plot ( s_eff, b_rej, '--', label = 'A random classifier')\n",
        "plt.xlabel (\"Signal selection efficiency\")\n",
        "plt.ylabel (\"Background rejection\")\n",
        "plt.legend()\n",
        "plt.show()"
      ],
      "execution_count": null,
      "outputs": [
        {
          "output_type": "display_data",
          "data": {
            "image/png": "[encoded data removed]",
            "text/plain": [
              "<Figure size 432x288 with 1 Axes>"
            ]
          },
          "metadata": {
            "tags": [],
            "needs_background": "light"
          }
        }
      ]
    },
    {
      "cell_type": "markdown",
      "metadata": {
        "id": "3PRx7eKb0KpX"
      },
      "source": [
        "### Exercise 1.2\n",
        "Try to repeat the computation of the ROC curve for every single variable in the dataset and superpose all of them on a single plot. \n",
        "Do you obtain the same ranking as you obtained with the Kolmogorov distance?"
      ]
    },
    {
      "cell_type": "code",
      "metadata": {
        "id": "vqs5z-RixGcs",
        "colab": {
          "base_uri": "https://localhost:8080/"
        },
        "outputId": "f2efb0f9-b03c-4079-9306-e037ad483d35"
      },
      "source": [
        "## Solution of Exercise 1.2, to be hidden to students.\n",
        "\n",
        "for varName in dataset.columns:\n",
        "  if varName in ('njet', 'label'): continue\n",
        "  var = dataset[varName].values\n",
        "  s_var = signal[varName].values\n",
        "  b_var = background[varName].values\n",
        "  xAxis = np.linspace ( var.min(), var.max(), 100 )\n",
        "  s_Pdf  = np.histogram ( s_var, bins=xAxis )[0] / len (s_var)\n",
        "  b_Pdf  = np.histogram ( b_var, bins=xAxis )[0] / len (b_var)\n",
        "  likelihood_ratio = np.log ( np.maximum ( 1e-12, s_Pdf/(b_Pdf + 1e-12)) )\n",
        "  s_dll = np.interp ( s_var, 0.5*(xAxis[:-1]+xAxis[1:]), likelihood_ratio )  \n",
        "  b_dll = np.interp ( b_var, 0.5*(xAxis[:-1]+xAxis[1:]), likelihood_ratio )\n",
        "\n",
        "  thresholds = np.quantile (np.concatenate((s_dll,b_dll)), np.linspace(0,1,100))\n",
        "  s_eff = 1. - np.cumsum ( np.histogram (s_dll, bins=thresholds)[0] / len(s_var) )\n",
        "  b_rej = np.cumsum ( np.histogram (b_dll, bins=thresholds)[0] / len(b_var) )\n",
        "\n",
        "  plt.plot (s_eff, b_rej, '--', label = varName, alpha=0.7)\n",
        "  \n",
        "\n",
        "plt.xlabel (\"Signal selection efficiency\")\n",
        "plt.ylabel (\"Background rejection\")\n",
        "\n",
        "plt.legend()\n",
        "plt.show()"
      ],
      "execution_count": null,
      "outputs": [
        {
          "output_type": "display_data",
          "data": {
            "image/png": "[encoded data removed]",
            "text/plain": [
              "<Figure size 432x288 with 1 Axes>"
            ]
          },
          "metadata": {
            "tags": [],
            "needs_background": "light"
          }
        }
      ]
    },
    {
      "cell_type": "code",
      "metadata": {
        "id": "QPMPCAVg3O1Q"
      },
      "source": [
        ""
      ],
      "execution_count": null,
      "outputs": []
    }
  ]
}